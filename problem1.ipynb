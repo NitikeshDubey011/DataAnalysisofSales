{
 "cells": [
  {
   "cell_type": "markdown",
   "metadata": {
    "nbgrader": {
     "checksum": "01648f2c7a2b86d733aea6aeb05487e8",
     "grade": false,
     "grade_id": "jupyter",
     "locked": false,
     "schema_version": 1,
     "solution": true
    }
   },
   "source": [
    "### Overview\n",
    "You have five sections to complete in this Notebook:\n",
    "* Part A: Load and Clean Data\n",
    "* Part B Data Exploration\n",
    "* Part C: Predicting Spending Levels\n",
    "* Part D: Predicting Big Spenders\n",
    "* Part E: Business Recommendations"
   ]
  },
  {
   "cell_type": "code",
   "execution_count": 2,
   "metadata": {
    "deletable": false,
    "nbgrader": {
     "checksum": "8e8e40c5312c2594db509b8e4c9f731d",
     "grade": false,
     "grade_id": "imports",
     "locked": false,
     "schema_version": 1,
     "solution": true
    }
   },
   "outputs": [],
   "source": [
    "# add all your imports here.\n",
    "# YOUR CODE HERE\n",
    "import numpy as np\n",
    "import pandas as pd\n",
    "import matplotlib.pyplot as plt\n",
    "%matplotlib inline\n",
    "import seaborn as sns\n",
    "import warnings\n",
    "warnings.filterwarnings('ignore')\n",
    "# raise NotImplementedError()"
   ]
  },
  {
   "cell_type": "markdown",
   "metadata": {
    "nbgrader": {
     "checksum": "01648f2c7a2b86d733aea6aeb05487e8",
     "grade": false,
     "grade_id": "jupyter",
     "locked": false,
     "schema_version": 1,
     "solution": true
    }
   },
   "source": [
    "---\n",
    "# Part A: Load and Clean Data\n",
    "\n",
    "Save your CSV data file into the same folder as this notebook.\n",
    "\n",
    "Write Python code to load your dataset into a Pandas DataFrame called 'sales'."
   ]
  },
  {
   "cell_type": "code",
   "execution_count": 3,
   "metadata": {
    "deletable": false,
    "nbgrader": {
     "checksum": "f1866306460b18ba8285f9073b7870bb",
     "grade": false,
     "grade_id": "read_sales",
     "locked": false,
     "schema_version": 1,
     "solution": true
    }
   },
   "outputs": [],
   "source": [
    "# YOUR CODE HERE\n",
    "sales = pd.read_csv('Gadget_Sales.csv')\n",
    "# raise NotImplementedError()"
   ]
  },
  {
   "cell_type": "markdown",
   "metadata": {
    "deletable": false,
    "editable": false,
    "nbgrader": {
     "checksum": "465472c32b09a4d2bd97325a77ab7dae",
     "grade": false,
     "grade_id": "cell-08fd91c8f6a3f1ab",
     "locked": true,
     "schema_version": 1,
     "solution": false
    }
   },
   "source": [
    "After you have loaded the data correctly, you should have 10,000 rows. \n",
    "Run the following cells and tests to check that you have done this correctly."
   ]
  },
  {
   "cell_type": "code",
   "execution_count": 4,
   "metadata": {
    "deletable": false,
    "editable": false,
    "nbgrader": {
     "checksum": "30e709e48a4861e49bfcd0f34e07af3b",
     "grade": false,
     "grade_id": "cell-802dd990ff7bb39a",
     "locked": true,
     "schema_version": 1,
     "solution": false
    }
   },
   "outputs": [
    {
     "data": {
      "text/html": [
       "<div>\n",
       "<style scoped>\n",
       "    .dataframe tbody tr th:only-of-type {\n",
       "        vertical-align: middle;\n",
       "    }\n",
       "\n",
       "    .dataframe tbody tr th {\n",
       "        vertical-align: top;\n",
       "    }\n",
       "\n",
       "    .dataframe thead th {\n",
       "        text-align: right;\n",
       "    }\n",
       "</style>\n",
       "<table border=\"1\" class=\"dataframe\">\n",
       "  <thead>\n",
       "    <tr style=\"text-align: right;\">\n",
       "      <th></th>\n",
       "      <th>CustNum</th>\n",
       "      <th>Name</th>\n",
       "      <th>Sex</th>\n",
       "      <th>Age</th>\n",
       "      <th>State</th>\n",
       "      <th>Income</th>\n",
       "      <th>Clicks</th>\n",
       "      <th>LastSpend</th>\n",
       "      <th>Purchases</th>\n",
       "      <th>Spend</th>\n",
       "    </tr>\n",
       "  </thead>\n",
       "  <tbody>\n",
       "    <tr>\n",
       "      <th>0</th>\n",
       "      <td>0</td>\n",
       "      <td>Brandon Bender</td>\n",
       "      <td>male</td>\n",
       "      <td>67</td>\n",
       "      <td>NSW</td>\n",
       "      <td>120000</td>\n",
       "      <td>709</td>\n",
       "      <td>$2488.59</td>\n",
       "      <td>8</td>\n",
       "      <td>$1615.00</td>\n",
       "    </tr>\n",
       "    <tr>\n",
       "      <th>1</th>\n",
       "      <td>1</td>\n",
       "      <td>Andre Mccormick</td>\n",
       "      <td>male</td>\n",
       "      <td>38</td>\n",
       "      <td>VIC</td>\n",
       "      <td>140000</td>\n",
       "      <td>630</td>\n",
       "      <td>$4295.34</td>\n",
       "      <td>14</td>\n",
       "      <td>$1927.20</td>\n",
       "    </tr>\n",
       "    <tr>\n",
       "      <th>2</th>\n",
       "      <td>2</td>\n",
       "      <td>Ashley Smith</td>\n",
       "      <td>female</td>\n",
       "      <td>47</td>\n",
       "      <td>NSW</td>\n",
       "      <td>50000</td>\n",
       "      <td>554</td>\n",
       "      <td>$1986.09</td>\n",
       "      <td>8</td>\n",
       "      <td>$363.30</td>\n",
       "    </tr>\n",
       "    <tr>\n",
       "      <th>3</th>\n",
       "      <td>3</td>\n",
       "      <td>Ann Riley</td>\n",
       "      <td>female</td>\n",
       "      <td>33</td>\n",
       "      <td>NSW</td>\n",
       "      <td>100000</td>\n",
       "      <td>309</td>\n",
       "      <td>$1532.64</td>\n",
       "      <td>10</td>\n",
       "      <td>$588.60</td>\n",
       "    </tr>\n",
       "    <tr>\n",
       "      <th>4</th>\n",
       "      <td>4</td>\n",
       "      <td>Timothy Chavez</td>\n",
       "      <td>male</td>\n",
       "      <td>49</td>\n",
       "      <td>NSW</td>\n",
       "      <td>140000</td>\n",
       "      <td>520</td>\n",
       "      <td>$2082.08</td>\n",
       "      <td>8</td>\n",
       "      <td>$1764.40</td>\n",
       "    </tr>\n",
       "  </tbody>\n",
       "</table>\n",
       "</div>"
      ],
      "text/plain": [
       "   CustNum             Name     Sex  Age State  Income  Clicks LastSpend  \\\n",
       "0        0   Brandon Bender    male   67   NSW  120000     709  $2488.59   \n",
       "1        1  Andre Mccormick    male   38   VIC  140000     630  $4295.34   \n",
       "2        2     Ashley Smith  female   47   NSW   50000     554  $1986.09   \n",
       "3        3        Ann Riley  female   33   NSW  100000     309  $1532.64   \n",
       "4        4   Timothy Chavez    male   49   NSW  140000     520  $2082.08   \n",
       "\n",
       "   Purchases     Spend  \n",
       "0          8  $1615.00  \n",
       "1         14  $1927.20  \n",
       "2          8   $363.30  \n",
       "3         10   $588.60  \n",
       "4          8  $1764.40  "
      ]
     },
     "execution_count": 4,
     "metadata": {},
     "output_type": "execute_result"
    }
   ],
   "source": [
    "sales.head()"
   ]
  },
  {
   "cell_type": "code",
   "execution_count": 5,
   "metadata": {
    "deletable": false,
    "editable": false,
    "nbgrader": {
     "checksum": "18fa2c34a21ec341e571e978461c2d74",
     "grade": true,
     "grade_id": "data_loaded",
     "locked": false,
     "points": 5,
     "schema_version": 1,
     "solution": false
    }
   },
   "outputs": [],
   "source": [
    "\"\"\"Check that 'sales' has the right shape and number of rows (5 points).\"\"\"\n",
    "assert len(sales.columns) == 10\n",
    "assert sales.columns[0] == \"CustNum\"\n",
    "assert sales.shape == (10000, 10)"
   ]
  },
  {
   "cell_type": "markdown",
   "metadata": {
    "deletable": false,
    "editable": false,
    "nbgrader": {
     "checksum": "290dd5079318da97a499eb5f4e56e8c0",
     "grade": false,
     "grade_id": "cell-cbd5370682d8937a",
     "locked": true,
     "schema_version": 1,
     "solution": false
    }
   },
   "source": [
    "## Cleaning the Data\n",
    "\n",
    "Some of the columns are strings, with dollar signs.  But we need to convert them to numbers (float) so that we can do calculations on them.  The next cell shows what will go wrong if we try doing calculations *before* converting them floats!"
   ]
  },
  {
   "cell_type": "code",
   "execution_count": 6,
   "metadata": {
    "deletable": false,
    "editable": false,
    "nbgrader": {
     "checksum": "f37fc394053f62b401f14b6d76a4c800",
     "grade": false,
     "grade_id": "cell-c0f6f29476bf6fc8",
     "locked": true,
     "schema_version": 1,
     "solution": false
    }
   },
   "outputs": [
    {
     "data": {
      "text/plain": [
       "0    $1615.00$1615.00$1615.00$1615.00\n",
       "1    $1927.20$1927.20$1927.20$1927.20\n",
       "2        $363.30$363.30$363.30$363.30\n",
       "3        $588.60$588.60$588.60$588.60\n",
       "4    $1764.40$1764.40$1764.40$1764.40\n",
       "Name: Spend, dtype: object"
      ]
     },
     "execution_count": 6,
     "metadata": {},
     "output_type": "execute_result"
    }
   ],
   "source": [
    "s2 = sales[\"Spend\"] * 4\n",
    "s2.head()"
   ]
  },
  {
   "cell_type": "code",
   "execution_count": 7,
   "metadata": {
    "deletable": false,
    "nbgrader": {
     "checksum": "656807b5b835cf1f7968d34cea95417c",
     "grade": false,
     "grade_id": "remove_dollars",
     "locked": false,
     "schema_version": 1,
     "solution": true
    }
   },
   "outputs": [],
   "source": [
    "# Complete the following remove_dollar function \n",
    "# so that it removes any dollar signs and spaces\n",
    "# and then returns the string as a number (float).\n",
    "def remove_dollar(s):\n",
    "    \"\"\"Removes dollar signs and spaces from s.\n",
    "    Returns it as a float.\n",
    "    \"\"\"\n",
    "    # YOUR CODE HERE\n",
    "    if type(s) == str:\n",
    "        return float(s.replace('$','').replace(' ',''))\n",
    "    else:\n",
    "        return [float(s.replace('$','').replace(' ','')) for s in s]"
   ]
  },
  {
   "cell_type": "code",
   "execution_count": 8,
   "metadata": {
    "deletable": false,
    "editable": false,
    "nbgrader": {
     "checksum": "5f43a2833f4cb63651fe509dadb38345",
     "grade": true,
     "grade_id": "test_remove_dollars",
     "locked": false,
     "points": 5,
     "schema_version": 1,
     "solution": false
    }
   },
   "outputs": [],
   "source": [
    "\"\"\"Check that remove_dollar() removes dollars and spaces properly (5 points).\"\"\"\n",
    "assert remove_dollar(\"12\") == 12.0\n",
    "assert remove_dollar(\"$123\") == 123.0\n",
    "assert remove_dollar(\"  $1234\") == 1234.0\n",
    "assert remove_dollar(\" $42.3 \") == 42.3"
   ]
  },
  {
   "cell_type": "markdown",
   "metadata": {
    "deletable": false,
    "editable": false,
    "nbgrader": {
     "checksum": "0f12e4450e96bddc301b3dd171c141f7",
     "grade": false,
     "grade_id": "cell-2674b20169c63acf",
     "locked": true,
     "schema_version": 1,
     "solution": false
    }
   },
   "source": [
    "## Clean up the Spend columns\n",
    "\n",
    "Apply your remove_dollar function to the \"Spend\" column (every row), and put the cleaned-up float values into a new column of your 'sales' DataFrame called **\"SpendValue\"**.\n",
    "\n",
    "Then do the same for the \"LastSpend\" column and put the float values into a new column called **\"LastSpendValue\"**."
   ]
  },
  {
   "cell_type": "code",
   "execution_count": 9,
   "metadata": {
    "deletable": false,
    "nbgrader": {
     "checksum": "2c3bc0d06aef53b2152af1d9de89ac5f",
     "grade": false,
     "grade_id": "clean_spends",
     "locked": false,
     "schema_version": 1,
     "solution": true
    }
   },
   "outputs": [],
   "source": [
    "# YOUR CODE HERE\n",
    "sales['SpendValue'] = remove_dollar(sales.Spend)\n",
    "sales['LastSpendValue'] = remove_dollar(sales.LastSpend)\n",
    "# raise NotImplementedError()"
   ]
  },
  {
   "cell_type": "code",
   "execution_count": 10,
   "metadata": {
    "deletable": false,
    "editable": false,
    "nbgrader": {
     "checksum": "0a2f7f9048af24c8c44cc2c73e6ea5e9",
     "grade": false,
     "grade_id": "cell-a2b9fa129543cf1f",
     "locked": true,
     "schema_version": 1,
     "solution": false
    }
   },
   "outputs": [
    {
     "data": {
      "text/plain": [
       "CustNum             int64\n",
       "Name               object\n",
       "Sex                object\n",
       "Age                 int64\n",
       "State              object\n",
       "Income              int64\n",
       "Clicks              int64\n",
       "LastSpend          object\n",
       "Purchases           int64\n",
       "Spend              object\n",
       "SpendValue        float64\n",
       "LastSpendValue    float64\n",
       "dtype: object"
      ]
     },
     "execution_count": 10,
     "metadata": {},
     "output_type": "execute_result"
    }
   ],
   "source": [
    "sales.dtypes"
   ]
  },
  {
   "cell_type": "code",
   "execution_count": 11,
   "metadata": {
    "deletable": false,
    "editable": false,
    "nbgrader": {
     "checksum": "63d529e18e524b173fd0bcc1425a4120",
     "grade": true,
     "grade_id": "test_clean_spends",
     "locked": true,
     "points": 5,
     "schema_version": 1,
     "solution": false
    }
   },
   "outputs": [],
   "source": [
    "# check the new SpendValue columns (5 points)\n",
    "assert sales.columns.contains(\"SpendValue\")\n",
    "assert sales.columns.contains(\"LastSpendValue\")\n",
    "# check that they are floats\n",
    "assert sales[\"SpendValue\"].dtype == \"float64\"\n",
    "assert sales[\"LastSpendValue\"].dtype == \"float64\"\n",
    "# check that the values are greater than zero.\n",
    "assert (sales[\"SpendValue\"] > 0.0).all()\n",
    "assert (sales[\"LastSpendValue\"] >= 0.0).all()"
   ]
  },
  {
   "cell_type": "markdown",
   "metadata": {
    "deletable": false,
    "editable": false,
    "nbgrader": {
     "checksum": "00496c84c110bdfaa8d1ab0f6a9bfdbc",
     "grade": false,
     "grade_id": "cell-9317487e7c923ef9",
     "locked": true,
     "schema_version": 1,
     "solution": false
    }
   },
   "source": [
    "## Make Sex and State numeric\n",
    "\n",
    "To use the Sex and State columns as input features for the machine learning algorithms in Scikit-Learn they must be numeric.\n",
    "\n",
    "Use the **LabelEncoder** object from the sklearn.preprocessing package to convert the 'Sex' column into an integer column called **\"SexValue\"**.  \n",
    "\n",
    "Also convert the \"State\" column into a integer column called **\"StateValue\"**. "
   ]
  },
  {
   "cell_type": "code",
   "execution_count": 12,
   "metadata": {
    "deletable": false,
    "nbgrader": {
     "checksum": "7dd8627d56479eb8657776ba1ea3e8a8",
     "grade": false,
     "grade_id": "sexvalue_statevalue",
     "locked": false,
     "schema_version": 1,
     "solution": true
    }
   },
   "outputs": [],
   "source": [
    "# YOUR CODE HERE\n",
    "from sklearn.preprocessing import LabelEncoder\n",
    "sales['SexValue'] = LabelEncoder().fit_transform(sales.Sex)\n",
    "sales['StateValue'] = LabelEncoder().fit_transform(sales.State)\n",
    "# raise NotImplementedError()"
   ]
  },
  {
   "cell_type": "code",
   "execution_count": 13,
   "metadata": {
    "deletable": false,
    "editable": false,
    "nbgrader": {
     "checksum": "0ae13631cb08d1c0cbff3e5bf3de78f3",
     "grade": false,
     "grade_id": "cell-7282fcbc237bd3c9",
     "locked": true,
     "schema_version": 1,
     "solution": false
    }
   },
   "outputs": [
    {
     "data": {
      "text/html": [
       "<div>\n",
       "<style scoped>\n",
       "    .dataframe tbody tr th:only-of-type {\n",
       "        vertical-align: middle;\n",
       "    }\n",
       "\n",
       "    .dataframe tbody tr th {\n",
       "        vertical-align: top;\n",
       "    }\n",
       "\n",
       "    .dataframe thead th {\n",
       "        text-align: right;\n",
       "    }\n",
       "</style>\n",
       "<table border=\"1\" class=\"dataframe\">\n",
       "  <thead>\n",
       "    <tr style=\"text-align: right;\">\n",
       "      <th></th>\n",
       "      <th>Name</th>\n",
       "      <th>Sex</th>\n",
       "      <th>SexValue</th>\n",
       "    </tr>\n",
       "  </thead>\n",
       "  <tbody>\n",
       "    <tr>\n",
       "      <th>0</th>\n",
       "      <td>Brandon Bender</td>\n",
       "      <td>male</td>\n",
       "      <td>1</td>\n",
       "    </tr>\n",
       "    <tr>\n",
       "      <th>1</th>\n",
       "      <td>Andre Mccormick</td>\n",
       "      <td>male</td>\n",
       "      <td>1</td>\n",
       "    </tr>\n",
       "    <tr>\n",
       "      <th>2</th>\n",
       "      <td>Ashley Smith</td>\n",
       "      <td>female</td>\n",
       "      <td>0</td>\n",
       "    </tr>\n",
       "    <tr>\n",
       "      <th>3</th>\n",
       "      <td>Ann Riley</td>\n",
       "      <td>female</td>\n",
       "      <td>0</td>\n",
       "    </tr>\n",
       "    <tr>\n",
       "      <th>4</th>\n",
       "      <td>Timothy Chavez</td>\n",
       "      <td>male</td>\n",
       "      <td>1</td>\n",
       "    </tr>\n",
       "  </tbody>\n",
       "</table>\n",
       "</div>"
      ],
      "text/plain": [
       "              Name     Sex  SexValue\n",
       "0   Brandon Bender    male         1\n",
       "1  Andre Mccormick    male         1\n",
       "2     Ashley Smith  female         0\n",
       "3        Ann Riley  female         0\n",
       "4   Timothy Chavez    male         1"
      ]
     },
     "execution_count": 13,
     "metadata": {},
     "output_type": "execute_result"
    }
   ],
   "source": [
    "# see if Sex has been mapped to ints properly?\n",
    "cols = [\"Name\", \"Sex\", \"SexValue\"]\n",
    "sales[cols].head()"
   ]
  },
  {
   "cell_type": "code",
   "execution_count": 14,
   "metadata": {
    "deletable": false,
    "editable": false,
    "nbgrader": {
     "checksum": "e49114bef2381621dd5b70443e207dfe",
     "grade": false,
     "grade_id": "cell-c7ca24f1daefbe4c",
     "locked": true,
     "schema_version": 1,
     "solution": false
    }
   },
   "outputs": [
    {
     "data": {
      "text/html": [
       "<div>\n",
       "<style scoped>\n",
       "    .dataframe tbody tr th:only-of-type {\n",
       "        vertical-align: middle;\n",
       "    }\n",
       "\n",
       "    .dataframe tbody tr th {\n",
       "        vertical-align: top;\n",
       "    }\n",
       "\n",
       "    .dataframe thead th {\n",
       "        text-align: right;\n",
       "    }\n",
       "</style>\n",
       "<table border=\"1\" class=\"dataframe\">\n",
       "  <thead>\n",
       "    <tr style=\"text-align: right;\">\n",
       "      <th></th>\n",
       "      <th>Name</th>\n",
       "      <th>State</th>\n",
       "      <th>StateValue</th>\n",
       "    </tr>\n",
       "  </thead>\n",
       "  <tbody>\n",
       "    <tr>\n",
       "      <th>0</th>\n",
       "      <td>Brandon Bender</td>\n",
       "      <td>NSW</td>\n",
       "      <td>1</td>\n",
       "    </tr>\n",
       "    <tr>\n",
       "      <th>1</th>\n",
       "      <td>Andre Mccormick</td>\n",
       "      <td>VIC</td>\n",
       "      <td>6</td>\n",
       "    </tr>\n",
       "    <tr>\n",
       "      <th>2</th>\n",
       "      <td>Ashley Smith</td>\n",
       "      <td>NSW</td>\n",
       "      <td>1</td>\n",
       "    </tr>\n",
       "    <tr>\n",
       "      <th>3</th>\n",
       "      <td>Ann Riley</td>\n",
       "      <td>NSW</td>\n",
       "      <td>1</td>\n",
       "    </tr>\n",
       "    <tr>\n",
       "      <th>4</th>\n",
       "      <td>Timothy Chavez</td>\n",
       "      <td>NSW</td>\n",
       "      <td>1</td>\n",
       "    </tr>\n",
       "    <tr>\n",
       "      <th>5</th>\n",
       "      <td>John Bennett</td>\n",
       "      <td>VIC</td>\n",
       "      <td>6</td>\n",
       "    </tr>\n",
       "    <tr>\n",
       "      <th>6</th>\n",
       "      <td>Teresa Wise</td>\n",
       "      <td>QLD</td>\n",
       "      <td>3</td>\n",
       "    </tr>\n",
       "    <tr>\n",
       "      <th>7</th>\n",
       "      <td>Andrew Nelson</td>\n",
       "      <td>QLD</td>\n",
       "      <td>3</td>\n",
       "    </tr>\n",
       "    <tr>\n",
       "      <th>8</th>\n",
       "      <td>Jon Aguilar</td>\n",
       "      <td>NSW</td>\n",
       "      <td>1</td>\n",
       "    </tr>\n",
       "    <tr>\n",
       "      <th>9</th>\n",
       "      <td>Priscilla Briggs</td>\n",
       "      <td>NSW</td>\n",
       "      <td>1</td>\n",
       "    </tr>\n",
       "  </tbody>\n",
       "</table>\n",
       "</div>"
      ],
      "text/plain": [
       "               Name State  StateValue\n",
       "0    Brandon Bender   NSW           1\n",
       "1   Andre Mccormick   VIC           6\n",
       "2      Ashley Smith   NSW           1\n",
       "3         Ann Riley   NSW           1\n",
       "4    Timothy Chavez   NSW           1\n",
       "5      John Bennett   VIC           6\n",
       "6       Teresa Wise   QLD           3\n",
       "7     Andrew Nelson   QLD           3\n",
       "8       Jon Aguilar   NSW           1\n",
       "9  Priscilla Briggs   NSW           1"
      ]
     },
     "execution_count": 14,
     "metadata": {},
     "output_type": "execute_result"
    }
   ],
   "source": [
    "# see if State has been mapped to ints properly?\n",
    "cols = [\"Name\", \"State\", \"StateValue\"]\n",
    "sales[cols].head(10)"
   ]
  },
  {
   "cell_type": "code",
   "execution_count": 15,
   "metadata": {
    "deletable": false,
    "editable": false,
    "nbgrader": {
     "checksum": "9568081227ace8e87156458f4c6b4715",
     "grade": true,
     "grade_id": "test_sexvalue_statevalue",
     "locked": true,
     "points": 5,
     "schema_version": 1,
     "solution": false
    }
   },
   "outputs": [],
   "source": [
    "# test the new SexValue and StateValue columns (5 points)\n",
    "assert sales.columns.contains(\"SexValue\")\n",
    "assert sales.columns.contains(\"StateValue\")\n",
    "# check that they are integer\n",
    "assert str(sales[\"SexValue\"].dtype).startswith(\"int\")   # \"int32\" or \"int64\"\n",
    "assert str(sales[\"StateValue\"].dtype).startswith(\"int\") # \"int32\" or \"int64\"\n",
    "# check that the values are greater than zero.\n",
    "assert sales[\"SexValue\"].max() == 1    # 0 and 1 only\n",
    "assert sales[\"StateValue\"].max() == 7  # 7 states in Australia"
   ]
  },
  {
   "cell_type": "code",
   "execution_count": 16,
   "metadata": {
    "deletable": false,
    "editable": false,
    "nbgrader": {
     "checksum": "0d29c2c288046210e1115c9171223383",
     "grade": false,
     "grade_id": "cell-251af098637b4c0a",
     "locked": true,
     "schema_version": 1,
     "solution": false
    }
   },
   "outputs": [
    {
     "data": {
      "text/html": [
       "<div>\n",
       "<style scoped>\n",
       "    .dataframe tbody tr th:only-of-type {\n",
       "        vertical-align: middle;\n",
       "    }\n",
       "\n",
       "    .dataframe tbody tr th {\n",
       "        vertical-align: top;\n",
       "    }\n",
       "\n",
       "    .dataframe thead th {\n",
       "        text-align: right;\n",
       "    }\n",
       "</style>\n",
       "<table border=\"1\" class=\"dataframe\">\n",
       "  <thead>\n",
       "    <tr style=\"text-align: right;\">\n",
       "      <th></th>\n",
       "      <th>CustNum</th>\n",
       "      <th>SexValue</th>\n",
       "      <th>Age</th>\n",
       "      <th>StateValue</th>\n",
       "      <th>Income</th>\n",
       "      <th>Clicks</th>\n",
       "      <th>Purchases</th>\n",
       "      <th>SpendValue</th>\n",
       "    </tr>\n",
       "  </thead>\n",
       "  <tbody>\n",
       "    <tr>\n",
       "      <th>0</th>\n",
       "      <td>0</td>\n",
       "      <td>1</td>\n",
       "      <td>67</td>\n",
       "      <td>1</td>\n",
       "      <td>120000</td>\n",
       "      <td>709</td>\n",
       "      <td>8</td>\n",
       "      <td>1615.0</td>\n",
       "    </tr>\n",
       "    <tr>\n",
       "      <th>1</th>\n",
       "      <td>1</td>\n",
       "      <td>1</td>\n",
       "      <td>38</td>\n",
       "      <td>6</td>\n",
       "      <td>140000</td>\n",
       "      <td>630</td>\n",
       "      <td>14</td>\n",
       "      <td>1927.2</td>\n",
       "    </tr>\n",
       "    <tr>\n",
       "      <th>2</th>\n",
       "      <td>2</td>\n",
       "      <td>0</td>\n",
       "      <td>47</td>\n",
       "      <td>1</td>\n",
       "      <td>50000</td>\n",
       "      <td>554</td>\n",
       "      <td>8</td>\n",
       "      <td>363.3</td>\n",
       "    </tr>\n",
       "    <tr>\n",
       "      <th>3</th>\n",
       "      <td>3</td>\n",
       "      <td>0</td>\n",
       "      <td>33</td>\n",
       "      <td>1</td>\n",
       "      <td>100000</td>\n",
       "      <td>309</td>\n",
       "      <td>10</td>\n",
       "      <td>588.6</td>\n",
       "    </tr>\n",
       "    <tr>\n",
       "      <th>4</th>\n",
       "      <td>4</td>\n",
       "      <td>1</td>\n",
       "      <td>49</td>\n",
       "      <td>1</td>\n",
       "      <td>140000</td>\n",
       "      <td>520</td>\n",
       "      <td>8</td>\n",
       "      <td>1764.4</td>\n",
       "    </tr>\n",
       "  </tbody>\n",
       "</table>\n",
       "</div>"
      ],
      "text/plain": [
       "   CustNum  SexValue  Age  StateValue  Income  Clicks  Purchases  SpendValue\n",
       "0        0         1   67           1  120000     709          8      1615.0\n",
       "1        1         1   38           6  140000     630         14      1927.2\n",
       "2        2         0   47           1   50000     554          8       363.3\n",
       "3        3         0   33           1  100000     309         10       588.6\n",
       "4        4         1   49           1  140000     520          8      1764.4"
      ]
     },
     "execution_count": 16,
     "metadata": {},
     "output_type": "execute_result"
    }
   ],
   "source": [
    "# Finally, let us view just the numeric columns.\n",
    "numcols = [\"CustNum\", \"SexValue\", \"Age\", \"StateValue\",\n",
    "           \"Income\", \"Clicks\", \"Purchases\", \"SpendValue\"]\n",
    "sales[numcols].head()"
   ]
  },
  {
   "cell_type": "markdown",
   "metadata": {
    "nbgrader": {
     "checksum": "01648f2c7a2b86d733aea6aeb05487e8",
     "grade": false,
     "grade_id": "jupyter",
     "locked": false,
     "schema_version": 1,
     "solution": true
    }
   },
   "source": [
    "---\n",
    "\n",
    "# Part B Data Exploration\n",
    "\n",
    "In this section, you will explore the data statistically and visually, to get a feel for what kinds of data you have, and how much people are spending on your web site.\n",
    "\n",
    "## B.1 Data Inspection\n",
    "\n",
    "Start by using the Pandas **describe()** function to analyse all the numeric columns of your 'sales' DataFrame.  Spend some time looking at this and making sure that you understand the average (mean) and range (min and max) of each column."
   ]
  },
  {
   "cell_type": "code",
   "execution_count": 17,
   "metadata": {
    "deletable": false,
    "nbgrader": {
     "checksum": "751cce9df93b4a6f2f432502c85ecda9",
     "grade": false,
     "grade_id": "cell-d8bed57ee90f2626",
     "locked": false,
     "schema_version": 1,
     "solution": true
    }
   },
   "outputs": [
    {
     "data": {
      "text/html": [
       "<div>\n",
       "<style scoped>\n",
       "    .dataframe tbody tr th:only-of-type {\n",
       "        vertical-align: middle;\n",
       "    }\n",
       "\n",
       "    .dataframe tbody tr th {\n",
       "        vertical-align: top;\n",
       "    }\n",
       "\n",
       "    .dataframe thead th {\n",
       "        text-align: right;\n",
       "    }\n",
       "</style>\n",
       "<table border=\"1\" class=\"dataframe\">\n",
       "  <thead>\n",
       "    <tr style=\"text-align: right;\">\n",
       "      <th></th>\n",
       "      <th>CustNum</th>\n",
       "      <th>Age</th>\n",
       "      <th>Income</th>\n",
       "      <th>Clicks</th>\n",
       "      <th>Purchases</th>\n",
       "      <th>SpendValue</th>\n",
       "      <th>LastSpendValue</th>\n",
       "      <th>SexValue</th>\n",
       "      <th>StateValue</th>\n",
       "    </tr>\n",
       "  </thead>\n",
       "  <tbody>\n",
       "    <tr>\n",
       "      <th>count</th>\n",
       "      <td>10000.00000</td>\n",
       "      <td>10000.000000</td>\n",
       "      <td>10000.000000</td>\n",
       "      <td>10000.00000</td>\n",
       "      <td>10000.00000</td>\n",
       "      <td>10000.000000</td>\n",
       "      <td>10000.000000</td>\n",
       "      <td>10000.00000</td>\n",
       "      <td>10000.000000</td>\n",
       "    </tr>\n",
       "    <tr>\n",
       "      <th>mean</th>\n",
       "      <td>4999.50000</td>\n",
       "      <td>44.388500</td>\n",
       "      <td>80260.000000</td>\n",
       "      <td>501.40390</td>\n",
       "      <td>8.45270</td>\n",
       "      <td>906.892805</td>\n",
       "      <td>2024.320991</td>\n",
       "      <td>0.50590</td>\n",
       "      <td>3.677300</td>\n",
       "    </tr>\n",
       "    <tr>\n",
       "      <th>std</th>\n",
       "      <td>2886.89568</td>\n",
       "      <td>16.796832</td>\n",
       "      <td>42091.918143</td>\n",
       "      <td>289.59793</td>\n",
       "      <td>4.96355</td>\n",
       "      <td>632.156911</td>\n",
       "      <td>1855.160796</td>\n",
       "      <td>0.49999</td>\n",
       "      <td>2.273561</td>\n",
       "    </tr>\n",
       "    <tr>\n",
       "      <th>min</th>\n",
       "      <td>0.00000</td>\n",
       "      <td>16.000000</td>\n",
       "      <td>20000.000000</td>\n",
       "      <td>0.00000</td>\n",
       "      <td>1.00000</td>\n",
       "      <td>160.200000</td>\n",
       "      <td>0.000000</td>\n",
       "      <td>0.00000</td>\n",
       "      <td>0.000000</td>\n",
       "    </tr>\n",
       "    <tr>\n",
       "      <th>25%</th>\n",
       "      <td>2499.75000</td>\n",
       "      <td>30.000000</td>\n",
       "      <td>40000.000000</td>\n",
       "      <td>251.00000</td>\n",
       "      <td>5.00000</td>\n",
       "      <td>438.400000</td>\n",
       "      <td>641.597500</td>\n",
       "      <td>0.00000</td>\n",
       "      <td>1.000000</td>\n",
       "    </tr>\n",
       "    <tr>\n",
       "      <th>50%</th>\n",
       "      <td>4999.50000</td>\n",
       "      <td>44.000000</td>\n",
       "      <td>80000.000000</td>\n",
       "      <td>502.00000</td>\n",
       "      <td>7.00000</td>\n",
       "      <td>694.625000</td>\n",
       "      <td>1447.640000</td>\n",
       "      <td>1.00000</td>\n",
       "      <td>3.000000</td>\n",
       "    </tr>\n",
       "    <tr>\n",
       "      <th>75%</th>\n",
       "      <td>7499.25000</td>\n",
       "      <td>59.000000</td>\n",
       "      <td>120000.000000</td>\n",
       "      <td>753.00000</td>\n",
       "      <td>11.00000</td>\n",
       "      <td>1231.237500</td>\n",
       "      <td>2877.345000</td>\n",
       "      <td>1.00000</td>\n",
       "      <td>6.000000</td>\n",
       "    </tr>\n",
       "    <tr>\n",
       "      <th>max</th>\n",
       "      <td>9999.00000</td>\n",
       "      <td>73.000000</td>\n",
       "      <td>160000.000000</td>\n",
       "      <td>1000.00000</td>\n",
       "      <td>24.00000</td>\n",
       "      <td>2995.000000</td>\n",
       "      <td>11676.310000</td>\n",
       "      <td>1.00000</td>\n",
       "      <td>7.000000</td>\n",
       "    </tr>\n",
       "  </tbody>\n",
       "</table>\n",
       "</div>"
      ],
      "text/plain": [
       "           CustNum           Age         Income       Clicks    Purchases  \\\n",
       "count  10000.00000  10000.000000   10000.000000  10000.00000  10000.00000   \n",
       "mean    4999.50000     44.388500   80260.000000    501.40390      8.45270   \n",
       "std     2886.89568     16.796832   42091.918143    289.59793      4.96355   \n",
       "min        0.00000     16.000000   20000.000000      0.00000      1.00000   \n",
       "25%     2499.75000     30.000000   40000.000000    251.00000      5.00000   \n",
       "50%     4999.50000     44.000000   80000.000000    502.00000      7.00000   \n",
       "75%     7499.25000     59.000000  120000.000000    753.00000     11.00000   \n",
       "max     9999.00000     73.000000  160000.000000   1000.00000     24.00000   \n",
       "\n",
       "         SpendValue  LastSpendValue     SexValue    StateValue  \n",
       "count  10000.000000    10000.000000  10000.00000  10000.000000  \n",
       "mean     906.892805     2024.320991      0.50590      3.677300  \n",
       "std      632.156911     1855.160796      0.49999      2.273561  \n",
       "min      160.200000        0.000000      0.00000      0.000000  \n",
       "25%      438.400000      641.597500      0.00000      1.000000  \n",
       "50%      694.625000     1447.640000      1.00000      3.000000  \n",
       "75%     1231.237500     2877.345000      1.00000      6.000000  \n",
       "max     2995.000000    11676.310000      1.00000      7.000000  "
      ]
     },
     "execution_count": 17,
     "metadata": {},
     "output_type": "execute_result"
    }
   ],
   "source": [
    "# YOUR CODE HERE\n",
    "sales.describe()\n",
    "# raise NotImplementedError()"
   ]
  },
  {
   "cell_type": "markdown",
   "metadata": {
    "deletable": false,
    "editable": false,
    "nbgrader": {
     "checksum": "39b26387e6cd9bb0d7b6efa230ac49d5",
     "grade": false,
     "grade_id": "cell-0b2f4c09da525548",
     "locked": true,
     "schema_version": 1,
     "solution": false
    }
   },
   "source": [
    "### Data Inspection Questions\n",
    "\n",
    "In the next cell, write your observations about the \"SpendValue\" and \"Purchases\" columns.  For each column, say what the average value is and discuss what that means in terms of your sales to an average person.  Also discuss the min and max values.  \n",
    "\n",
    "Based on the \"SpendValue\" column, explain how much your \"big spenders\" (the top 25% percent of your clients) are spending each year.  This will be a range of values, such as from 1000 to 2000 dollars.\n",
    "\n",
    "Your discussion must all be in the next cell.  \n",
    "\n",
    "Add three level-2 headings in that cell to break your discussion into topics: \"Purchases column\", \"SpendValue column\", and \"Big Spenders\"."
   ]
  },
  {
   "cell_type": "markdown",
   "metadata": {
    "deletable": false,
    "nbgrader": {
     "checksum": "16a739898cfdc266929e615df1d3fc4d",
     "grade": true,
     "grade_id": "stats_discussion",
     "locked": false,
     "points": 15,
     "schema_version": 1,
     "solution": true
    }
   },
   "source": [
    "### Answer:\n",
    "The average value of **Age** attribute is **44.388500*. the min for this attribute is **16** and the max value of this attribute is **73**. The average value of **Income** attribute is **80260**, the min value of this attribute is **20000** and the max value of this attribute is **160000**.\n",
    "## Purchase Column\n",
    "The average value of **Minimum Purchase** attribute is **8.45270**, the min value of this attribute is **1** and the max value of this attribute is **24**. From these insights, it is seen that the minimum purchase that has been made by any customer from the gadget store is of 1 gadget and the maximum purchase by any customer ever made is of 24 gadgets.\n",
    " ## SpendValue Column\n",
    "The average value of **Spend Value** attribute is **906.892805**, the min value of this attribute is **160.20** and the max value of this attribute is **2995**.  The minimum spend value has been spent by the customer who purchased only one gadget, on the other hand, the maximum spend value is of the customer who purchased the greatest number of gadgets from the gadget store. \n",
    " ## Big Spenders\n",
    "**1230** and **2995** is the range value for the customers who are considered as big spenders at the gadget store.\n"
   ]
  },
  {
   "cell_type": "markdown",
   "metadata": {
    "deletable": false,
    "editable": false,
    "nbgrader": {
     "checksum": "371a5c352c0a86a51230d772cbfc3e07",
     "grade": false,
     "grade_id": "cell-42f09627d593627b",
     "locked": true,
     "schema_version": 1,
     "solution": false
    }
   },
   "source": [
    "## B.2 Differences between States\n",
    "\n",
    "We want to know where most of our customers live and whether customers from certain areas spend more or less than average.  Write some Pandas code to calculate and display the total **number of customers** in each Australian state (NSW, QLD, VIC, etc.) and their average **SpendValue**.  \n",
    "\n",
    "Hint: you could do this by *grouping* your 'sales' table, or by *looping* through all the states, or several other ways."
   ]
  },
  {
   "cell_type": "code",
   "execution_count": 18,
   "metadata": {
    "deletable": false,
    "nbgrader": {
     "checksum": "e9b627c873d5779bf739755a6e58f9ca",
     "grade": true,
     "grade_id": "state_differences",
     "locked": false,
     "points": 5,
     "schema_version": 1,
     "solution": true
    }
   },
   "outputs": [
    {
     "data": {
      "text/html": [
       "<div>\n",
       "<style scoped>\n",
       "    .dataframe tbody tr th:only-of-type {\n",
       "        vertical-align: middle;\n",
       "    }\n",
       "\n",
       "    .dataframe tbody tr th {\n",
       "        vertical-align: top;\n",
       "    }\n",
       "\n",
       "    .dataframe thead th {\n",
       "        text-align: right;\n",
       "    }\n",
       "</style>\n",
       "<table border=\"1\" class=\"dataframe\">\n",
       "  <thead>\n",
       "    <tr style=\"text-align: right;\">\n",
       "      <th></th>\n",
       "      <th>CustNum</th>\n",
       "      <th>SpendValue</th>\n",
       "    </tr>\n",
       "    <tr>\n",
       "      <th>State</th>\n",
       "      <th></th>\n",
       "      <th></th>\n",
       "    </tr>\n",
       "  </thead>\n",
       "  <tbody>\n",
       "    <tr>\n",
       "      <th>ACT</th>\n",
       "      <td>316</td>\n",
       "      <td>896.829430</td>\n",
       "    </tr>\n",
       "    <tr>\n",
       "      <th>NSW</th>\n",
       "      <td>2974</td>\n",
       "      <td>894.985071</td>\n",
       "    </tr>\n",
       "    <tr>\n",
       "      <th>NT</th>\n",
       "      <td>77</td>\n",
       "      <td>823.362987</td>\n",
       "    </tr>\n",
       "    <tr>\n",
       "      <th>QLD</th>\n",
       "      <td>1709</td>\n",
       "      <td>889.928233</td>\n",
       "    </tr>\n",
       "    <tr>\n",
       "      <th>SA</th>\n",
       "      <td>664</td>\n",
       "      <td>909.493750</td>\n",
       "    </tr>\n",
       "  </tbody>\n",
       "</table>\n",
       "</div>"
      ],
      "text/plain": [
       "       CustNum  SpendValue\n",
       "State                     \n",
       "ACT        316  896.829430\n",
       "NSW       2974  894.985071\n",
       "NT          77  823.362987\n",
       "QLD       1709  889.928233\n",
       "SA         664  909.493750"
      ]
     },
     "execution_count": 18,
     "metadata": {},
     "output_type": "execute_result"
    }
   ],
   "source": [
    "# YOUR CODE HERE\n",
    "statesgroup = sales.groupby('State').agg({'CustNum':'count','SpendValue':'mean'})\n",
    "statesgroup.head()\n",
    "# raise NotImplementedError()"
   ]
  },
  {
   "cell_type": "markdown",
   "metadata": {
    "deletable": false,
    "editable": false,
    "nbgrader": {
     "checksum": "bddc3ccce056677e18683576ba497fc2",
     "grade": false,
     "grade_id": "cell-2048865556d3075a",
     "locked": true,
     "schema_version": 1,
     "solution": false
    }
   },
   "source": [
    "### Graphical Comparison of States\n",
    "\n",
    "Now *graph* your results, so that you can see them visually.\n",
    "\n",
    "NOTE: since the states in Australia have very different populations, you should also calculate and graph the number of customers *relative* to the population of each state (you can use Google to find populations of each state).\n",
    "\n",
    "So you should show at least the following three graphs:\n",
    "* the absolute number of customers in each state;\n",
    "* the number of customers in each state as a percentage of the population of that state;\n",
    "* the average SpendValue of customers in each state (dollars/customer)."
   ]
  },
  {
   "cell_type": "code",
   "execution_count": 19,
   "metadata": {
    "deletable": false,
    "nbgrader": {
     "checksum": "8faf0489b53ec64188bb44391e73da2e",
     "grade": true,
     "grade_id": "state_graph",
     "locked": false,
     "points": 5,
     "schema_version": 1,
     "solution": true
    }
   },
   "outputs": [
    {
     "data": {
      "image/png": "[encoded data removed]",
      "text/plain": [
       "<Figure size 432x288 with 1 Axes>"
      ]
     },
     "metadata": {
      "needs_background": "light"
     },
     "output_type": "display_data"
    },
    {
     "data": {
      "image/png": "[encoded data removed]",
      "text/plain": [
       "<Figure size 432x288 with 1 Axes>"
      ]
     },
     "metadata": {
      "needs_background": "light"
     },
     "output_type": "display_data"
    },
    {
     "data": {
      "image/png": "[encoded data removed]",
      "text/plain": [
       "<Figure size 432x288 with 1 Axes>"
      ]
     },
     "metadata": {
      "needs_background": "light"
     },
     "output_type": "display_data"
    }
   ],
   "source": [
    "# YOUR CODE HERE\n",
    "\n",
    "# Population of states on google\n",
    "popState = np.array([406692,789000000,245786,497000000,172000000,520830,627000000,267000000])\n",
    "\n",
    "# the absolute number of customers in each state\n",
    "statesgroup.plot(y='CustNum', kind= 'bar')\n",
    "plt.xticks(rotation=0)\n",
    "plt.ylabel('Number of Customers')\n",
    "plt.title('Absolute Number of Customers')\n",
    "plt.show()\n",
    "\n",
    "# the number of customers in each state as a percentage of the population of that state\n",
    "statesgroup['poulation%'] = statesgroup.CustNum / popState * 100\n",
    " \n",
    "statesgroup.plot(y='poulation%', kind= 'bar')\n",
    "plt.xticks(rotation=0)\n",
    "plt.ylabel('Percentage of Customers')\n",
    "plt.title('Percentage of Customers in every state')\n",
    "plt.show()\n",
    "\n",
    "# the average SpendValue of customers in each state (dollars/customer)\n",
    "statesgroup.plot(y = 'SpendValue', kind='bar')\n",
    "plt.xticks(rotation=0)\n",
    "plt.ylabel('Average Spend Value')\n",
    "plt.title('Average Spend Value of Customers')\n",
    "plt.legend().remove()\n",
    "plt.show()\n",
    "\n",
    "# raise NotImplementedError()"
   ]
  },
  {
   "cell_type": "markdown",
   "metadata": {
    "deletable": false,
    "editable": false,
    "nbgrader": {
     "checksum": "0b1e9db97925d4ebcc4c722fd8f24607",
     "grade": false,
     "grade_id": "cell-69d9b3e589675082",
     "locked": true,
     "schema_version": 1,
     "solution": false
    }
   },
   "source": [
    "### Question:\n",
    "Discuss these graphs and explain your conclusions.\n",
    "\n",
    "For example, are there *significant* differences in the average spend in different states?  Are our customer spread evenly across Australia, or concentrated in particular areas? \n",
    "\n",
    "Write your answer in the next cell, and give reasons for your conclusions."
   ]
  },
  {
   "cell_type": "markdown",
   "metadata": {
    "deletable": false,
    "nbgrader": {
     "checksum": "dceefa056e1646739ff0a0a5c1f49bc3",
     "grade": true,
     "grade_id": "state_discussion",
     "locked": false,
     "points": 5,
     "schema_version": 1,
     "solution": true
    }
   },
   "source": [
    "### Answer:\n",
    "\n",
    "**316** customers are associated to the gadget store from **Australian Capital Territory**. **2974** customers are associated to the gadget store from **New South Wales**. **77** customers are associated to the gadget store from **Northern Territory**. **1709** customers are associated to the gadget store from **Queensland**. **664** customers are associated to the gadget store from **South Australia **. **169** customers are associated to the gadget store from **Tasmania**. **3620** customers are associated to the gadget store from **Victoria**. **471** customers are associated to the gadget store from **Western Australia**.\n",
    "**0.0777%** percent people are associated to the gadget store out of **406692** i.e. the total population of **Australian Capital Territory**. **0.0004 %** percent people are associated to the gadget store out of **789000000** i.e. the total population of **New South Wales**. **0.0313%** percent people are associated to the gadget store out of **245786** i.e. the total population of **Northern Territory**. **0.0003%** percent people are associated to the gadget store out of **497000000** i.e. the total population of **Queensland**. **0.0004%** percent people are associated to the gadget store out of **172000000** i.e. the total population of ** South Australia **. **0.0324%** percent people are associated to the gadget store out of **520830** i.e. the total population of **Tasmania**. **0.0006%** percent people are associated to the gadget store out of **627000000** i.e. the total population of **Victoria**. **0.0002%** percent people are associated to the gadget store out of **267000000** i.e. the total population of **Western Australia**. \n",
    "The customers from most of the cities are spending amount equivalent to the average spend values. Whereas the customers from the state of **Northern Territory** spend average amount value lesser than their average spend values, on the other hand the customers from **Western Australia** are spending more amount than their average spends.\n"
   ]
  },
  {
   "cell_type": "markdown",
   "metadata": {
    "nbgrader": {
     "checksum": "01648f2c7a2b86d733aea6aeb05487e8",
     "grade": false,
     "grade_id": "jupyter",
     "locked": false,
     "schema_version": 1,
     "solution": true
    }
   },
   "source": [
    "---\n",
    "\n",
    "# Part C: Predicting Spending Levels\n",
    "\n",
    "Using the LinearRegression function from the Scikit-Learn library (**sklearn**), build a machine learning model for predicting the expected **SpendValue** for a customer.  \n",
    "\n",
    "Measure the performance of your model using 10-fold cross-validation with a test set size of 20% and print various measures of how accurate your predictions are."
   ]
  },
  {
   "cell_type": "code",
   "execution_count": 20,
   "metadata": {},
   "outputs": [
    {
     "data": {
      "text/html": [
       "<div>\n",
       "<style scoped>\n",
       "    .dataframe tbody tr th:only-of-type {\n",
       "        vertical-align: middle;\n",
       "    }\n",
       "\n",
       "    .dataframe tbody tr th {\n",
       "        vertical-align: top;\n",
       "    }\n",
       "\n",
       "    .dataframe thead th {\n",
       "        text-align: right;\n",
       "    }\n",
       "</style>\n",
       "<table border=\"1\" class=\"dataframe\">\n",
       "  <thead>\n",
       "    <tr style=\"text-align: right;\">\n",
       "      <th></th>\n",
       "      <th>CustNum</th>\n",
       "      <th>Name</th>\n",
       "      <th>Sex</th>\n",
       "      <th>Age</th>\n",
       "      <th>State</th>\n",
       "      <th>Income</th>\n",
       "      <th>Clicks</th>\n",
       "      <th>LastSpend</th>\n",
       "      <th>Purchases</th>\n",
       "      <th>Spend</th>\n",
       "      <th>SpendValue</th>\n",
       "      <th>LastSpendValue</th>\n",
       "      <th>SexValue</th>\n",
       "      <th>StateValue</th>\n",
       "    </tr>\n",
       "  </thead>\n",
       "  <tbody>\n",
       "    <tr>\n",
       "      <th>0</th>\n",
       "      <td>0</td>\n",
       "      <td>Brandon Bender</td>\n",
       "      <td>male</td>\n",
       "      <td>67</td>\n",
       "      <td>NSW</td>\n",
       "      <td>120000</td>\n",
       "      <td>709</td>\n",
       "      <td>$2488.59</td>\n",
       "      <td>8</td>\n",
       "      <td>$1615.00</td>\n",
       "      <td>1615.0</td>\n",
       "      <td>2488.59</td>\n",
       "      <td>1</td>\n",
       "      <td>1</td>\n",
       "    </tr>\n",
       "    <tr>\n",
       "      <th>1</th>\n",
       "      <td>1</td>\n",
       "      <td>Andre Mccormick</td>\n",
       "      <td>male</td>\n",
       "      <td>38</td>\n",
       "      <td>VIC</td>\n",
       "      <td>140000</td>\n",
       "      <td>630</td>\n",
       "      <td>$4295.34</td>\n",
       "      <td>14</td>\n",
       "      <td>$1927.20</td>\n",
       "      <td>1927.2</td>\n",
       "      <td>4295.34</td>\n",
       "      <td>1</td>\n",
       "      <td>6</td>\n",
       "    </tr>\n",
       "    <tr>\n",
       "      <th>2</th>\n",
       "      <td>2</td>\n",
       "      <td>Ashley Smith</td>\n",
       "      <td>female</td>\n",
       "      <td>47</td>\n",
       "      <td>NSW</td>\n",
       "      <td>50000</td>\n",
       "      <td>554</td>\n",
       "      <td>$1986.09</td>\n",
       "      <td>8</td>\n",
       "      <td>$363.30</td>\n",
       "      <td>363.3</td>\n",
       "      <td>1986.09</td>\n",
       "      <td>0</td>\n",
       "      <td>1</td>\n",
       "    </tr>\n",
       "    <tr>\n",
       "      <th>3</th>\n",
       "      <td>3</td>\n",
       "      <td>Ann Riley</td>\n",
       "      <td>female</td>\n",
       "      <td>33</td>\n",
       "      <td>NSW</td>\n",
       "      <td>100000</td>\n",
       "      <td>309</td>\n",
       "      <td>$1532.64</td>\n",
       "      <td>10</td>\n",
       "      <td>$588.60</td>\n",
       "      <td>588.6</td>\n",
       "      <td>1532.64</td>\n",
       "      <td>0</td>\n",
       "      <td>1</td>\n",
       "    </tr>\n",
       "    <tr>\n",
       "      <th>4</th>\n",
       "      <td>4</td>\n",
       "      <td>Timothy Chavez</td>\n",
       "      <td>male</td>\n",
       "      <td>49</td>\n",
       "      <td>NSW</td>\n",
       "      <td>140000</td>\n",
       "      <td>520</td>\n",
       "      <td>$2082.08</td>\n",
       "      <td>8</td>\n",
       "      <td>$1764.40</td>\n",
       "      <td>1764.4</td>\n",
       "      <td>2082.08</td>\n",
       "      <td>1</td>\n",
       "      <td>1</td>\n",
       "    </tr>\n",
       "  </tbody>\n",
       "</table>\n",
       "</div>"
      ],
      "text/plain": [
       "   CustNum             Name     Sex  Age State  Income  Clicks LastSpend  \\\n",
       "0        0   Brandon Bender    male   67   NSW  120000     709  $2488.59   \n",
       "1        1  Andre Mccormick    male   38   VIC  140000     630  $4295.34   \n",
       "2        2     Ashley Smith  female   47   NSW   50000     554  $1986.09   \n",
       "3        3        Ann Riley  female   33   NSW  100000     309  $1532.64   \n",
       "4        4   Timothy Chavez    male   49   NSW  140000     520  $2082.08   \n",
       "\n",
       "   Purchases     Spend  SpendValue  LastSpendValue  SexValue  StateValue  \n",
       "0          8  $1615.00      1615.0         2488.59         1           1  \n",
       "1         14  $1927.20      1927.2         4295.34         1           6  \n",
       "2          8   $363.30       363.3         1986.09         0           1  \n",
       "3         10   $588.60       588.6         1532.64         0           1  \n",
       "4          8  $1764.40      1764.4         2082.08         1           1  "
      ]
     },
     "execution_count": 20,
     "metadata": {},
     "output_type": "execute_result"
    }
   ],
   "source": [
    "sales.head()"
   ]
  },
  {
   "cell_type": "code",
   "execution_count": 21,
   "metadata": {
    "deletable": false,
    "nbgrader": {
     "checksum": "21bc9fe7e9bfec0a1202fb6b2c3e2398",
     "grade": true,
     "grade_id": "linear_model",
     "locked": false,
     "points": 10,
     "schema_version": 1,
     "solution": true
    }
   },
   "outputs": [
    {
     "name": "stdout",
     "output_type": "stream",
     "text": [
      "Accuracies for 10cv:  [0.84790796 0.84369033 0.85962807 0.84717124 0.84227225 0.84460036\n",
      " 0.85104337 0.84690129 0.85336703 0.84468429]\n"
     ]
    }
   ],
   "source": [
    "# YOUR CODE HERE\n",
    "from sklearn.linear_model import LinearRegression\n",
    "from sklearn.model_selection import train_test_split, cross_val_score\n",
    "\n",
    "X_train,X_test,y_train,y_test=train_test_split(sales[['Income','Purchases','SexValue']],sales[['SpendValue']],test_size=0.2,random_state=121)\n",
    "reg  = LinearRegression().fit(X_train,y_train)\n",
    "pred = reg.predict(X_test)\n",
    "\n",
    "acc = cross_val_score(estimator = reg ,X = X_train,y = y_train,cv = 10)\n",
    "print('Accuracies for 10cv: ',acc)\n",
    "# raise NotImplementedError()"
   ]
  },
  {
   "cell_type": "markdown",
   "metadata": {
    "deletable": false,
    "editable": false,
    "nbgrader": {
     "checksum": "0fd7767c43cceab4ef450eac964c9d97",
     "grade": false,
     "grade_id": "cell-0a4b5a223c85b28b",
     "locked": true,
     "schema_version": 1,
     "solution": false
    }
   },
   "source": [
    "### Analysis of Results\n",
    "\n",
    "Print out the linear regression coefficients for all the input features, so that you can see which ones are more significant and which ones are unimportant.  \n",
    "\n",
    "Hint 1: Since the scale of the input features is so different (0-1 for sex, 0-160000 for income, etc) multiply the linear regression coefficients by the average value of the corresponding column, to see how many dollars that column contributes to the total predicated-spend answer.\n",
    "\n",
    "Hint 2: Could you graph the predicted and actual spendvalues of the test data, to visually see how good the linear regression results are?"
   ]
  },
  {
   "cell_type": "code",
   "execution_count": 22,
   "metadata": {
    "deletable": false,
    "nbgrader": {
     "checksum": "6ca31bc1a6d3cc3ac8d708905b271d08",
     "grade": true,
     "grade_id": "print_coefficients",
     "locked": false,
     "points": 5,
     "schema_version": 1,
     "solution": true
    }
   },
   "outputs": [
    {
     "name": "stdout",
     "output_type": "stream",
     "text": [
      "Coefficient value of Income \tis 0.009981699024789322\n",
      "Coefficient value of Purchases \tis 0.137887439924898\n",
      "Coefficient value of SexValue \tis 802.3603559720451\n"
     ]
    },
    {
     "data": {
      "image/png": "[encoded data removed]",
      "text/plain": [
       "<Figure size 432x288 with 1 Axes>"
      ]
     },
     "metadata": {
      "needs_background": "light"
     },
     "output_type": "display_data"
    }
   ],
   "source": [
    "# YOUR CODE HERE\n",
    "# coefficients \n",
    "for i,j in zip(['Income','Purchases','SexValue'],reg.coef_[0]):\n",
    "    print(f'Coefficient value of {i} \\tis {j}')\n",
    "\n",
    "plt.scatter(pred[-40:], y_test.SpendValue.iloc[-40:], color = 'c')\n",
    "plt.plot(pred, reg.predict(X_test), color = 'blue')\n",
    "plt.title('Predicting Spending Levels')\n",
    "plt.xlabel('Actual Value')\n",
    "plt.ylabel('Predicted Value')\n",
    "plt.show()    \n",
    "    \n",
    "# raise NotImplementedError()"
   ]
  },
  {
   "cell_type": "markdown",
   "metadata": {
    "deletable": false,
    "editable": false,
    "nbgrader": {
     "checksum": "bc14d16e6c7b576d57b83e215aeed5bf",
     "grade": false,
     "grade_id": "cell-28e263a7e0b03cb7",
     "locked": true,
     "schema_version": 1,
     "solution": false
    }
   },
   "source": [
    "### Discussion:\n",
    "\n",
    "Discuss your conclusions about this linear regression model (in the next cell).  Which input features are most significant?"
   ]
  },
  {
   "cell_type": "markdown",
   "metadata": {
    "deletable": false,
    "nbgrader": {
     "checksum": "d3acec970eaec9a4127898684bcfd6c9",
     "grade": true,
     "grade_id": "linear_discussion",
     "locked": false,
     "points": 5,
     "schema_version": 1,
     "solution": true
    }
   },
   "source": [
    "### Answer:\n",
    "Y = m * x + c \n",
    "> the equation used to calculate the regression where y acts as the sink to store the regression value, m is the variable used to hold the slope value of the regression value, x is the variable regarding which the regression is calculated and c comprises of a constant."
   ]
  },
  {
   "cell_type": "markdown",
   "metadata": {
    "nbgrader": {
     "checksum": "01648f2c7a2b86d733aea6aeb05487e8",
     "grade": false,
     "grade_id": "jupyter",
     "locked": false,
     "schema_version": 1,
     "solution": true
    }
   },
   "source": [
    "---\n",
    "# Part D: Predicting Big Spenders\n",
    "\n",
    "In this section we want to build some machine learning models predict if a new customer is likely to be a big spender or not.  This will be a binary outcome (yes or no), so we can use machine learning *classification* algorithms.\n",
    "\n",
    "Remember that our definition of 'Big-Spender' is that it is a client whose annual spending level (**SpendValue**) is in the top 25% of our clients.  So the exact dollar cutoff for big spenders will be different for each student, as each of you are working for a different company and are using a different dataset.\n",
    "\n",
    "Choose two classification algorithms.  Use each one to build and then evaluate a 'big-spender' prediction model."
   ]
  },
  {
   "cell_type": "code",
   "execution_count": 23,
   "metadata": {
    "deletable": false,
    "nbgrader": {
     "checksum": "6730b4462b0ad03ca0a417e92ac293d0",
     "grade": true,
     "grade_id": "big_spenders",
     "locked": false,
     "points": 15,
     "schema_version": 1,
     "solution": true
    }
   },
   "outputs": [
    {
     "name": "stdout",
     "output_type": "stream",
     "text": [
      "Accuracy Score for SVM:  0.8555\n",
      "Accuracy Score for KNN:  1.0\n"
     ]
    }
   ],
   "source": [
    "# YOUR CODE HERE\n",
    "\n",
    "# Finding Big Spenders\n",
    "bs = sales.sort_values('SpendValue',ascending=False).reset_index()\n",
    "value = bs.SpendValue[(len(bs.SpendValue)*0.25)]\n",
    "sales['BigSpender'] = [1 if i > value else 0 for i in sales.SpendValue]\n",
    "\n",
    "X_train,X_test,y_train,y_test=train_test_split(sales[['Income','Purchases','SpendValue']],sales[['BigSpender']],test_size=0.2,random_state=121)\n",
    "X_train.head()\n",
    "\n",
    "from sklearn.svm import SVC\n",
    "clfSVC = SVC(gamma='auto')\n",
    "clfSVC.fit(X_train, y_train)\n",
    "predSVM = clfSVC.predict(X_test)\n",
    "print('Accuracy Score for SVM: ',clfSVC.score(X_test, y_test))\n",
    "\n",
    "\n",
    "from sklearn.neighbors import KNeighborsClassifier\n",
    "clfKNN = KNeighborsClassifier(n_neighbors = 2)\n",
    "clfKNN.fit(X_train, y_train)\n",
    "predKNN = clfKNN.predict(X_test)\n",
    "\n",
    "print('Accuracy Score for KNN: ',clfKNN.score(X_test, y_test))"
   ]
  },
  {
   "cell_type": "markdown",
   "metadata": {
    "deletable": false,
    "editable": false,
    "nbgrader": {
     "checksum": "d1a007969cf93d86fbb5b450cfe72bb6",
     "grade": false,
     "grade_id": "classifier_questions",
     "locked": true,
     "schema_version": 1,
     "solution": false
    }
   },
   "source": [
    "### Discussion:\n",
    "\n",
    "Discuss your conclusions about your two classification models (in the next cell).\n",
    "\n",
    "Which classification algorithm gives the more accurate results? \n",
    "\n",
    "How accurate are the results from your best classifier?"
   ]
  },
  {
   "cell_type": "markdown",
   "metadata": {
    "deletable": false,
    "nbgrader": {
     "checksum": "7eb904e6af434d90d9daf95ac32f7407",
     "grade": true,
     "grade_id": "classification_discussion",
     "locked": false,
     "points": 5,
     "schema_version": 1,
     "solution": true
    }
   },
   "source": [
    "### Answer:\n",
    "KNN and SVM models are used for the classification of the big spenders for the gadget store. The accuracy of SVM model is lesser than that of the KNN model as the SVM only provides 85% correct answers whereas the KNN provides 90% correct answers. "
   ]
  },
  {
   "cell_type": "markdown",
   "metadata": {
    "nbgrader": {
     "checksum": "01648f2c7a2b86d733aea6aeb05487e8",
     "grade": false,
     "grade_id": "jupyter",
     "locked": false,
     "schema_version": 1,
     "solution": true
    }
   },
   "source": [
    "---\n",
    "# Part E: Business Recommendations\n",
    "\n",
    "The company you are doing this analysis for wants some recommendations from you about how to find new customers who are likely to be big spenders.  They are wondering if they should focus their advertising on a particular gender?  Or people in a given state, such as Victoria, or NSW?  Or aim at demographic groups who have high income level or medium income levels?  Or other strategies?  What recommendations will you give them?  \n",
    "\n",
    "Write about 100 words describing your conclusions from your analysis, and your recommendations for the best strategy for attracting new big-spender customers."
   ]
  },
  {
   "cell_type": "markdown",
   "metadata": {
    "deletable": false,
    "nbgrader": {
     "checksum": "431ae6f33830241660636295628df330",
     "grade": true,
     "grade_id": "business_recommendations",
     "locked": false,
     "points": 10,
     "schema_version": 1,
     "solution": true
    }
   },
   "source": [
    "## Recommendations:\n",
    "From the insights gathered above, it is concluded that amounts, the males are spending on gadgets are much higher as compared to females. The amount that males are spending on the gadgets are much higher i.e.  2000 to 3000 which majorly falls into the category of big spenders. Whereas, the females are spending amounts between the range of 1000 to 2000, which is lesser than the males. The big spenders should be given membership cards along with benefits associated to them."
   ]
  },
  {
   "cell_type": "code",
   "execution_count": null,
   "metadata": {},
   "outputs": [],
   "source": []
  },
  {
   "cell_type": "code",
   "execution_count": null,
   "metadata": {},
   "outputs": [],
   "source": []
  }
 ],
 "metadata": {
  "kernelspec": {
   "display_name": "Python 3",
   "language": "python",
   "name": "python3"
  },
  "language_info": {
   "codemirror_mode": {
    "name": "ipython",
    "version": 3
   },
   "file_extension": ".py",
   "mimetype": "text/x-python",
   "name": "python",
   "nbconvert_exporter": "python",
   "pygments_lexer": "ipython3",
   "version": "3.7.0"
  }
 },
 "nbformat": 4,
 "nbformat_minor": 1
}
